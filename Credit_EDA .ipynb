{
 "cells": [
  {
   "cell_type": "code",
   "execution_count": 1,
   "id": "621c119b-7b6c-4acb-958e-92fd9b6125c3",
   "metadata": {},
   "outputs": [],
   "source": [
    "#import the warnings\n",
    "\n",
    "import warnings\n",
    "\n",
    "warnings.filterwarnings(\"ignore\")"
   ]
  },
  {
   "cell_type": "code",
   "execution_count": 2,
   "id": "90288072-8522-4398-87b8-c63f5007af8e",
   "metadata": {},
   "outputs": [],
   "source": [
    "# Import the Liberaries\n",
    "\n",
    "import pandas as pd\n",
    "\n",
    "import numpy as np\n",
    "\n",
    "import matplotlib.pyplot as plt\n",
    "\n",
    "import seaborn as sns\n",
    "\n",
    "%matplotlib inline\n",
    "\n",
    "pd.set_option(\"display.max_columns\", None)"
   ]
  },
  {
   "cell_type": "code",
   "execution_count": 18,
   "id": "0de68268-36cf-46fc-bbac-451225ee47ab",
   "metadata": {},
   "outputs": [
    {
     "data": {
      "text/html": [
       "<div>\n",
       "<style scoped>\n",
       "    .dataframe tbody tr th:only-of-type {\n",
       "        vertical-align: middle;\n",
       "    }\n",
       "\n",
       "    .dataframe tbody tr th {\n",
       "        vertical-align: top;\n",
       "    }\n",
       "\n",
       "    .dataframe thead th {\n",
       "        text-align: right;\n",
       "    }\n",
       "</style>\n",
       "<table border=\"1\" class=\"dataframe\">\n",
       "  <thead>\n",
       "    <tr style=\"text-align: right;\">\n",
       "      <th></th>\n",
       "      <th>SK_ID_CURR</th>\n",
       "      <th>TARGET</th>\n",
       "      <th>NAME_CONTRACT_TYPE</th>\n",
       "      <th>CODE_GENDER</th>\n",
       "      <th>FLAG_OWN_CAR</th>\n",
       "      <th>CNT_CHILDREN</th>\n",
       "      <th>AMT_INCOME_TOTAL</th>\n",
       "      <th>AMT_CREDIT</th>\n",
       "      <th>NAME_EDUCATION_TYPE</th>\n",
       "      <th>NAME_FAMILY_STATUS</th>\n",
       "      <th>DAYS_BIRTH</th>\n",
       "      <th>DAYS_EMPLOYED</th>\n",
       "      <th>EXT_SOURCE_3</th>\n",
       "    </tr>\n",
       "  </thead>\n",
       "  <tbody>\n",
       "    <tr>\n",
       "      <th>0</th>\n",
       "      <td>100001</td>\n",
       "      <td>0</td>\n",
       "      <td>Cash loans</td>\n",
       "      <td>F</td>\n",
       "      <td>N</td>\n",
       "      <td>2</td>\n",
       "      <td>442974</td>\n",
       "      <td>270863</td>\n",
       "      <td>Lower</td>\n",
       "      <td>Single</td>\n",
       "      <td>-13743</td>\n",
       "      <td>-779</td>\n",
       "      <td>NaN</td>\n",
       "    </tr>\n",
       "    <tr>\n",
       "      <th>1</th>\n",
       "      <td>100002</td>\n",
       "      <td>1</td>\n",
       "      <td>Revolving loans</td>\n",
       "      <td>F</td>\n",
       "      <td>Y</td>\n",
       "      <td>3</td>\n",
       "      <td>54994</td>\n",
       "      <td>784494</td>\n",
       "      <td>Incomplete</td>\n",
       "      <td>Single</td>\n",
       "      <td>-12171</td>\n",
       "      <td>-15351</td>\n",
       "      <td>0.47</td>\n",
       "    </tr>\n",
       "    <tr>\n",
       "      <th>2</th>\n",
       "      <td>100003</td>\n",
       "      <td>0</td>\n",
       "      <td>Revolving loans</td>\n",
       "      <td>F</td>\n",
       "      <td>Y</td>\n",
       "      <td>4</td>\n",
       "      <td>316378</td>\n",
       "      <td>802461</td>\n",
       "      <td>Secondary</td>\n",
       "      <td>Single</td>\n",
       "      <td>-23005</td>\n",
       "      <td>-11042</td>\n",
       "      <td>NaN</td>\n",
       "    </tr>\n",
       "    <tr>\n",
       "      <th>3</th>\n",
       "      <td>100004</td>\n",
       "      <td>0</td>\n",
       "      <td>Revolving loans</td>\n",
       "      <td>F</td>\n",
       "      <td>Y</td>\n",
       "      <td>2</td>\n",
       "      <td>119300</td>\n",
       "      <td>693731</td>\n",
       "      <td>Incomplete</td>\n",
       "      <td>Married</td>\n",
       "      <td>-23708</td>\n",
       "      <td>-19276</td>\n",
       "      <td>0.16</td>\n",
       "    </tr>\n",
       "    <tr>\n",
       "      <th>4</th>\n",
       "      <td>100005</td>\n",
       "      <td>0</td>\n",
       "      <td>Revolving loans</td>\n",
       "      <td>M</td>\n",
       "      <td>N</td>\n",
       "      <td>0</td>\n",
       "      <td>356093</td>\n",
       "      <td>854471</td>\n",
       "      <td>Lower</td>\n",
       "      <td>Married</td>\n",
       "      <td>-20004</td>\n",
       "      <td>-5534</td>\n",
       "      <td>0.35</td>\n",
       "    </tr>\n",
       "  </tbody>\n",
       "</table>\n",
       "</div>"
      ],
      "text/plain": [
       "   SK_ID_CURR  TARGET NAME_CONTRACT_TYPE CODE_GENDER FLAG_OWN_CAR  \\\n",
       "0      100001       0         Cash loans           F            N   \n",
       "1      100002       1    Revolving loans           F            Y   \n",
       "2      100003       0    Revolving loans           F            Y   \n",
       "3      100004       0    Revolving loans           F            Y   \n",
       "4      100005       0    Revolving loans           M            N   \n",
       "\n",
       "   CNT_CHILDREN  AMT_INCOME_TOTAL  AMT_CREDIT NAME_EDUCATION_TYPE  \\\n",
       "0             2            442974      270863               Lower   \n",
       "1             3             54994      784494          Incomplete   \n",
       "2             4            316378      802461           Secondary   \n",
       "3             2            119300      693731          Incomplete   \n",
       "4             0            356093      854471               Lower   \n",
       "\n",
       "  NAME_FAMILY_STATUS  DAYS_BIRTH  DAYS_EMPLOYED  EXT_SOURCE_3  \n",
       "0             Single      -13743           -779           NaN  \n",
       "1             Single      -12171         -15351          0.47  \n",
       "2             Single      -23005         -11042           NaN  \n",
       "3            Married      -23708         -19276          0.16  \n",
       "4            Married      -20004          -5534          0.35  "
      ]
     },
     "execution_count": 18,
     "metadata": {},
     "output_type": "execute_result"
    }
   ],
   "source": [
    "app_data = pd.read_csv(\"application_data_large.csv\")\n",
    "\n",
    "app_data.head()"
   ]
  },
  {
   "cell_type": "code",
   "execution_count": 19,
   "id": "f1760464-7be8-4137-9b98-91050b771c75",
   "metadata": {},
   "outputs": [
    {
     "name": "stdout",
     "output_type": "stream",
     "text": [
      "<class 'pandas.core.frame.DataFrame'>\n",
      "RangeIndex: 1000 entries, 0 to 999\n",
      "Data columns (total 13 columns):\n",
      " #   Column               Non-Null Count  Dtype  \n",
      "---  ------               --------------  -----  \n",
      " 0   SK_ID_CURR           1000 non-null   int64  \n",
      " 1   TARGET               1000 non-null   int64  \n",
      " 2   NAME_CONTRACT_TYPE   1000 non-null   object \n",
      " 3   CODE_GENDER          1000 non-null   object \n",
      " 4   FLAG_OWN_CAR         1000 non-null   object \n",
      " 5   CNT_CHILDREN         1000 non-null   int64  \n",
      " 6   AMT_INCOME_TOTAL     1000 non-null   int64  \n",
      " 7   AMT_CREDIT           1000 non-null   int64  \n",
      " 8   NAME_EDUCATION_TYPE  1000 non-null   object \n",
      " 9   NAME_FAMILY_STATUS   1000 non-null   object \n",
      " 10  DAYS_BIRTH           1000 non-null   int64  \n",
      " 11  DAYS_EMPLOYED        1000 non-null   int64  \n",
      " 12  EXT_SOURCE_3         750 non-null    float64\n",
      "dtypes: float64(1), int64(7), object(5)\n",
      "memory usage: 101.7+ KB\n"
     ]
    }
   ],
   "source": [
    "app_data.info()"
   ]
  },
  {
   "cell_type": "code",
   "execution_count": 20,
   "id": "701c4a47-8486-44ec-aaf4-d299d455ef2c",
   "metadata": {},
   "outputs": [
    {
     "data": {
      "text/plain": [
       "EXT_SOURCE_3           25.0\n",
       "TARGET                  0.0\n",
       "NAME_CONTRACT_TYPE      0.0\n",
       "CODE_GENDER             0.0\n",
       "SK_ID_CURR              0.0\n",
       "FLAG_OWN_CAR            0.0\n",
       "CNT_CHILDREN            0.0\n",
       "AMT_CREDIT              0.0\n",
       "AMT_INCOME_TOTAL        0.0\n",
       "NAME_EDUCATION_TYPE     0.0\n",
       "NAME_FAMILY_STATUS      0.0\n",
       "DAYS_BIRTH              0.0\n",
       "DAYS_EMPLOYED           0.0\n",
       "dtype: float64"
      ]
     },
     "execution_count": 20,
     "metadata": {},
     "output_type": "execute_result"
    }
   ],
   "source": [
    "import pandas as pd\n",
    "\n",
    "# Optional: Show up to 200 rows in outputs\n",
    "pd.set_option('display.max_rows', 200)\n",
    "\n",
    "# Show % of missing values per column\n",
    "(app_data.isnull().mean() * 100).sort_values(ascending=False)\n"
   ]
  },
  {
   "cell_type": "code",
   "execution_count": 21,
   "id": "f2e70e45-88af-42b8-a7da-411f4eda28ee",
   "metadata": {},
   "outputs": [],
   "source": [
    "import pandas as pd\n",
    "\n",
    "app_data = pd.read_csv(\"application_data_large.csv\")  # or your full Kaggle file\n"
   ]
  },
  {
   "cell_type": "code",
   "execution_count": 22,
   "id": "b505007d-e980-444f-9472-382140c5c09e",
   "metadata": {
    "scrolled": true
   },
   "outputs": [],
   "source": [
    "import pandas as pd\n",
    "\n",
    "app_data = pd.read_csv(\"application_data_large.csv\")\n"
   ]
  },
  {
   "cell_type": "code",
   "execution_count": 23,
   "id": "d2f311cf-bb60-4e8f-89c2-f0bd47aad4b5",
   "metadata": {},
   "outputs": [],
   "source": [
    "percentage = 47\n",
    "threshold = int(((100 - percentage) / 100) * app_data.shape[0] + 1)\n",
    "app_df = app_data.dropna(axis=1, thresh=threshold)\n"
   ]
  },
  {
   "cell_type": "code",
   "execution_count": 24,
   "id": "b592ac31-b00f-486e-ad69-a5a648dca184",
   "metadata": {},
   "outputs": [
    {
     "name": "stdout",
     "output_type": "stream",
     "text": [
      "EXT_SOURCE_3\n",
      "0.47    2.133333\n",
      "0.95    2.000000\n",
      "0.54    2.000000\n",
      "0.51    1.866667\n",
      "0.21    1.733333\n",
      "0.70    1.733333\n",
      "0.50    1.600000\n",
      "0.90    1.600000\n",
      "0.29    1.600000\n",
      "0.72    1.600000\n",
      "0.17    1.600000\n",
      "0.34    1.600000\n",
      "0.88    1.466667\n",
      "0.33    1.466667\n",
      "0.15    1.466667\n",
      "0.32    1.466667\n",
      "0.74    1.466667\n",
      "0.14    1.333333\n",
      "0.76    1.333333\n",
      "0.43    1.333333\n",
      "0.94    1.333333\n",
      "0.59    1.333333\n",
      "0.19    1.333333\n",
      "0.58    1.333333\n",
      "0.20    1.333333\n",
      "0.65    1.333333\n",
      "0.99    1.333333\n",
      "0.53    1.333333\n",
      "0.35    1.333333\n",
      "0.25    1.333333\n",
      "0.57    1.200000\n",
      "0.62    1.200000\n",
      "0.78    1.200000\n",
      "0.13    1.200000\n",
      "0.85    1.200000\n",
      "0.49    1.200000\n",
      "0.42    1.200000\n",
      "0.66    1.200000\n",
      "0.86    1.200000\n",
      "0.30    1.200000\n",
      "0.22    1.200000\n",
      "0.68    1.200000\n",
      "0.44    1.066667\n",
      "0.91    1.066667\n",
      "0.46    1.066667\n",
      "0.38    1.066667\n",
      "0.89    1.066667\n",
      "0.28    1.066667\n",
      "0.24    1.066667\n",
      "0.60    1.066667\n",
      "0.31    1.066667\n",
      "0.82    1.066667\n",
      "0.83    1.066667\n",
      "0.23    1.066667\n",
      "0.61    1.066667\n",
      "0.45    0.933333\n",
      "0.84    0.933333\n",
      "0.16    0.933333\n",
      "0.73    0.933333\n",
      "0.64    0.933333\n",
      "0.48    0.933333\n",
      "0.39    0.933333\n",
      "0.63    0.933333\n",
      "0.40    0.933333\n",
      "0.27    0.933333\n",
      "0.37    0.933333\n",
      "0.26    0.800000\n",
      "0.81    0.800000\n",
      "0.69    0.800000\n",
      "0.11    0.800000\n",
      "0.36    0.800000\n",
      "0.67    0.800000\n",
      "0.98    0.666667\n",
      "0.75    0.666667\n",
      "0.12    0.666667\n",
      "0.41    0.666667\n",
      "0.71    0.666667\n",
      "0.77    0.666667\n",
      "0.97    0.666667\n",
      "0.55    0.666667\n",
      "0.93    0.666667\n",
      "0.87    0.666667\n",
      "0.80    0.533333\n",
      "0.56    0.533333\n",
      "0.18    0.533333\n",
      "0.92    0.533333\n",
      "0.10    0.533333\n",
      "0.96    0.533333\n",
      "0.79    0.400000\n",
      "0.52    0.400000\n",
      "1.00    0.266667\n",
      "Name: proportion, dtype: float64\n"
     ]
    }
   ],
   "source": [
    "# ONLY if EXT_SOURCE_3 exists\n",
    "if 'EXT_SOURCE_3' in app_df.columns:\n",
    "    print(app_df['EXT_SOURCE_3'].value_counts(normalize=True) * 100)\n",
    "else:\n",
    "    print(\"❌ Column 'EXT_SOURCE_3' not found in dataset.\")\n"
   ]
  },
  {
   "cell_type": "code",
   "execution_count": 25,
   "id": "1e005ea8-b8d4-481b-bfc4-e6880cdd61b9",
   "metadata": {},
   "outputs": [
    {
     "data": {
      "image/png": "[encoded data removed]",
      "text/plain": [
       "<Figure size 640x480 with 1 Axes>"
      ]
     },
     "metadata": {},
     "output_type": "display_data"
    }
   ],
   "source": [
    "import seaborn as sns\n",
    "import matplotlib.pyplot as plt\n",
    "\n",
    "sns.boxplot(x=app_df['EXT_SOURCE_3'])  # x= is required here\n",
    "plt.title(\"Boxplot of EXT_SOURCE_3\")\n",
    "plt.xlabel(\"EXT_SOURCE_3\")\n",
    "plt.show()\n"
   ]
  },
  {
   "cell_type": "code",
   "execution_count": 26,
   "id": "5107316c-b92d-4fc7-8290-edb3965a56ac",
   "metadata": {},
   "outputs": [
    {
     "data": {
      "text/plain": [
       "count    750.000000\n",
       "mean       0.535933\n",
       "std        0.255742\n",
       "min        0.100000\n",
       "25%        0.320000\n",
       "50%        0.530000\n",
       "75%        0.740000\n",
       "max        1.000000\n",
       "Name: EXT_SOURCE_3, dtype: float64"
      ]
     },
     "execution_count": 26,
     "metadata": {},
     "output_type": "execute_result"
    }
   ],
   "source": [
    "app_df.EXT_SOURCE_3.describe()"
   ]
  },
  {
   "cell_type": "code",
   "execution_count": 28,
   "id": "35d857df-8355-4a41-a7d4-41250c684d3a",
   "metadata": {},
   "outputs": [
    {
     "ename": "KeyError",
     "evalue": "'DAYS_ID_PUBLISH'",
     "output_type": "error",
     "traceback": [
      "\u001b[0;31m---------------------------------------------------------------------------\u001b[0m",
      "\u001b[0;31mKeyError\u001b[0m                                  Traceback (most recent call last)",
      "File \u001b[0;32m/opt/conda/envs/anaconda-ai-2024.04-py310/lib/python3.10/site-packages/pandas/core/indexes/base.py:3791\u001b[0m, in \u001b[0;36mIndex.get_loc\u001b[0;34m(self, key)\u001b[0m\n\u001b[1;32m   3790\u001b[0m \u001b[38;5;28;01mtry\u001b[39;00m:\n\u001b[0;32m-> 3791\u001b[0m     \u001b[38;5;28;01mreturn\u001b[39;00m \u001b[38;5;28;43mself\u001b[39;49m\u001b[38;5;241;43m.\u001b[39;49m\u001b[43m_engine\u001b[49m\u001b[38;5;241;43m.\u001b[39;49m\u001b[43mget_loc\u001b[49m\u001b[43m(\u001b[49m\u001b[43mcasted_key\u001b[49m\u001b[43m)\u001b[49m\n\u001b[1;32m   3792\u001b[0m \u001b[38;5;28;01mexcept\u001b[39;00m \u001b[38;5;167;01mKeyError\u001b[39;00m \u001b[38;5;28;01mas\u001b[39;00m err:\n",
      "File \u001b[0;32mindex.pyx:152\u001b[0m, in \u001b[0;36mpandas._libs.index.IndexEngine.get_loc\u001b[0;34m()\u001b[0m\n",
      "File \u001b[0;32mindex.pyx:181\u001b[0m, in \u001b[0;36mpandas._libs.index.IndexEngine.get_loc\u001b[0;34m()\u001b[0m\n",
      "File \u001b[0;32mpandas/_libs/hashtable_class_helper.pxi:7080\u001b[0m, in \u001b[0;36mpandas._libs.hashtable.PyObjectHashTable.get_item\u001b[0;34m()\u001b[0m\n",
      "File \u001b[0;32mpandas/_libs/hashtable_class_helper.pxi:7088\u001b[0m, in \u001b[0;36mpandas._libs.hashtable.PyObjectHashTable.get_item\u001b[0;34m()\u001b[0m\n",
      "\u001b[0;31mKeyError\u001b[0m: 'DAYS_ID_PUBLISH'",
      "\nThe above exception was the direct cause of the following exception:\n",
      "\u001b[0;31mKeyError\u001b[0m                                  Traceback (most recent call last)",
      "Cell \u001b[0;32mIn[28], line 3\u001b[0m\n\u001b[1;32m      1\u001b[0m app_df[\u001b[38;5;124m\"\u001b[39m\u001b[38;5;124mYEARS_BIRTH\u001b[39m\u001b[38;5;124m\"\u001b[39m] \u001b[38;5;241m=\u001b[39m app_df[\u001b[38;5;124m\"\u001b[39m\u001b[38;5;124mDAYS_BIRTH\u001b[39m\u001b[38;5;124m\"\u001b[39m]\u001b[38;5;241m.\u001b[39mapply(\u001b[38;5;28;01mlambda\u001b[39;00m x: \u001b[38;5;28mint\u001b[39m(x \u001b[38;5;241m/\u001b[39m\u001b[38;5;241m/\u001b[39m \u001b[38;5;241m365\u001b[39m))\n\u001b[1;32m      2\u001b[0m app_df[\u001b[38;5;124m\"\u001b[39m\u001b[38;5;124mYEARS_EMPLOYED\u001b[39m\u001b[38;5;124m\"\u001b[39m] \u001b[38;5;241m=\u001b[39m app_df[\u001b[38;5;124m\"\u001b[39m\u001b[38;5;124mDAYS_EMPLOYED\u001b[39m\u001b[38;5;124m\"\u001b[39m]\u001b[38;5;241m.\u001b[39mapply(\u001b[38;5;28;01mlambda\u001b[39;00m x: \u001b[38;5;28mint\u001b[39m(x \u001b[38;5;241m/\u001b[39m\u001b[38;5;241m/\u001b[39m \u001b[38;5;241m365\u001b[39m))\n\u001b[0;32m----> 3\u001b[0m app_df[\u001b[38;5;124m\"\u001b[39m\u001b[38;5;124mYEARS_ID_PUBLISH\u001b[39m\u001b[38;5;124m\"\u001b[39m] \u001b[38;5;241m=\u001b[39m \u001b[43mapp_df\u001b[49m\u001b[43m[\u001b[49m\u001b[38;5;124;43m\"\u001b[39;49m\u001b[38;5;124;43mDAYS_ID_PUBLISH\u001b[39;49m\u001b[38;5;124;43m\"\u001b[39;49m\u001b[43m]\u001b[49m\u001b[38;5;241m.\u001b[39mapply(\u001b[38;5;28;01mlambda\u001b[39;00m x: \u001b[38;5;28mint\u001b[39m(x \u001b[38;5;241m/\u001b[39m\u001b[38;5;241m/\u001b[39m \u001b[38;5;241m365\u001b[39m))\n\u001b[1;32m      4\u001b[0m app_df[\u001b[38;5;124m\"\u001b[39m\u001b[38;5;124mYEARS_LAST_PHONE_CHANGE\u001b[39m\u001b[38;5;124m\"\u001b[39m] \u001b[38;5;241m=\u001b[39m app_df[\u001b[38;5;124m\"\u001b[39m\u001b[38;5;124mDAYS_LAST_PHONE_CHANGE\u001b[39m\u001b[38;5;124m\"\u001b[39m]\u001b[38;5;241m.\u001b[39mapply(\u001b[38;5;28;01mlambda\u001b[39;00m x: \u001b[38;5;28mint\u001b[39m(x \u001b[38;5;241m/\u001b[39m\u001b[38;5;241m/\u001b[39m \u001b[38;5;241m365\u001b[39m))\n",
      "File \u001b[0;32m/opt/conda/envs/anaconda-ai-2024.04-py310/lib/python3.10/site-packages/pandas/core/frame.py:3893\u001b[0m, in \u001b[0;36mDataFrame.__getitem__\u001b[0;34m(self, key)\u001b[0m\n\u001b[1;32m   3891\u001b[0m \u001b[38;5;28;01mif\u001b[39;00m \u001b[38;5;28mself\u001b[39m\u001b[38;5;241m.\u001b[39mcolumns\u001b[38;5;241m.\u001b[39mnlevels \u001b[38;5;241m>\u001b[39m \u001b[38;5;241m1\u001b[39m:\n\u001b[1;32m   3892\u001b[0m     \u001b[38;5;28;01mreturn\u001b[39;00m \u001b[38;5;28mself\u001b[39m\u001b[38;5;241m.\u001b[39m_getitem_multilevel(key)\n\u001b[0;32m-> 3893\u001b[0m indexer \u001b[38;5;241m=\u001b[39m \u001b[38;5;28;43mself\u001b[39;49m\u001b[38;5;241;43m.\u001b[39;49m\u001b[43mcolumns\u001b[49m\u001b[38;5;241;43m.\u001b[39;49m\u001b[43mget_loc\u001b[49m\u001b[43m(\u001b[49m\u001b[43mkey\u001b[49m\u001b[43m)\u001b[49m\n\u001b[1;32m   3894\u001b[0m \u001b[38;5;28;01mif\u001b[39;00m is_integer(indexer):\n\u001b[1;32m   3895\u001b[0m     indexer \u001b[38;5;241m=\u001b[39m [indexer]\n",
      "File \u001b[0;32m/opt/conda/envs/anaconda-ai-2024.04-py310/lib/python3.10/site-packages/pandas/core/indexes/base.py:3798\u001b[0m, in \u001b[0;36mIndex.get_loc\u001b[0;34m(self, key)\u001b[0m\n\u001b[1;32m   3793\u001b[0m     \u001b[38;5;28;01mif\u001b[39;00m \u001b[38;5;28misinstance\u001b[39m(casted_key, \u001b[38;5;28mslice\u001b[39m) \u001b[38;5;129;01mor\u001b[39;00m (\n\u001b[1;32m   3794\u001b[0m         \u001b[38;5;28misinstance\u001b[39m(casted_key, abc\u001b[38;5;241m.\u001b[39mIterable)\n\u001b[1;32m   3795\u001b[0m         \u001b[38;5;129;01mand\u001b[39;00m \u001b[38;5;28many\u001b[39m(\u001b[38;5;28misinstance\u001b[39m(x, \u001b[38;5;28mslice\u001b[39m) \u001b[38;5;28;01mfor\u001b[39;00m x \u001b[38;5;129;01min\u001b[39;00m casted_key)\n\u001b[1;32m   3796\u001b[0m     ):\n\u001b[1;32m   3797\u001b[0m         \u001b[38;5;28;01mraise\u001b[39;00m InvalidIndexError(key)\n\u001b[0;32m-> 3798\u001b[0m     \u001b[38;5;28;01mraise\u001b[39;00m \u001b[38;5;167;01mKeyError\u001b[39;00m(key) \u001b[38;5;28;01mfrom\u001b[39;00m \u001b[38;5;21;01merr\u001b[39;00m\n\u001b[1;32m   3799\u001b[0m \u001b[38;5;28;01mexcept\u001b[39;00m \u001b[38;5;167;01mTypeError\u001b[39;00m:\n\u001b[1;32m   3800\u001b[0m     \u001b[38;5;66;03m# If we have a listlike key, _check_indexing_error will raise\u001b[39;00m\n\u001b[1;32m   3801\u001b[0m     \u001b[38;5;66;03m#  InvalidIndexError. Otherwise we fall through and re-raise\u001b[39;00m\n\u001b[1;32m   3802\u001b[0m     \u001b[38;5;66;03m#  the TypeError.\u001b[39;00m\n\u001b[1;32m   3803\u001b[0m     \u001b[38;5;28mself\u001b[39m\u001b[38;5;241m.\u001b[39m_check_indexing_error(key)\n",
      "\u001b[0;31mKeyError\u001b[0m: 'DAYS_ID_PUBLISH'"
     ]
    }
   ],
   "source": [
    "import pandas as pd\n",
    "import numpy as np\n",
    "\n",
    "# Reload the dataset (update path if needed)\n",
    "file_path = \"/mnt/data/application_data_large.csv\"\n",
    "app_df = pd.read_csv(file_path)\n",
    "\n",
    "# Add a fake DAYS_REGISTRATION column\n",
    "app_df[\"DAYS_REGISTRATION\"] = -np.random.randint(100, 20000, size=app_df.shape[0])\n",
    "\n",
    "# Convert to years\n",
    "app_df[\"YEARS_REGISTRATION\"] = app_df[\"DAYS_REGISTRATION\"].apply(lambda x: int(x // 365))\n",
    "\n",
    "# Preview\n",
    "app_df[[\"DAYS_REGISTRATION\", \"YEARS_REGISTRATION\"]].head()\n"
   ]
  },
  {
   "cell_type": "code",
   "execution_count": null,
   "id": "5438aa0f-fa20-4b5f-ae1b-bd862cd5d1ff",
   "metadata": {},
   "outputs": [],
   "source": []
  },
  {
   "cell_type": "code",
   "execution_count": null,
   "id": "44858475-5489-4a24-920c-dd1685e34b6f",
   "metadata": {},
   "outputs": [],
   "source": []
  }
 ],
 "metadata": {
  "kernelspec": {
   "display_name": "anaconda-ai-2024.04-py310",
   "language": "python",
   "name": "conda-env-anaconda-ai-2024.04-py310-py"
  },
  "language_info": {
   "codemirror_mode": {
    "name": "ipython",
    "version": 3
   },
   "file_extension": ".py",
   "mimetype": "text/x-python",
   "name": "python",
   "nbconvert_exporter": "python",
   "pygments_lexer": "ipython3",
   "version": "3.10.13"
  }
 },
 "nbformat": 4,
 "nbformat_minor": 5
}
